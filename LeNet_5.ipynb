{
  "nbformat": 4,
  "nbformat_minor": 0,
  "metadata": {
    "colab": {
      "name": "LeNet-5.ipynb",
      "provenance": [],
      "collapsed_sections": [],
      "mount_file_id": "10rZ3rXLwkRyAmhvWgIqUP6MlLc5MSkY6",
      "authorship_tag": "ABX9TyN+uvkOb15g/tvWP2xzZqfG",
      "include_colab_link": true
    },
    "kernelspec": {
      "name": "python3",
      "display_name": "Python 3"
    },
    "accelerator": "GPU"
  },
  "cells": [
    {
      "cell_type": "markdown",
      "metadata": {
        "id": "view-in-github",
        "colab_type": "text"
      },
      "source": [
        "<a href=\"https://colab.research.google.com/github/pedromperezc/LeNet-5/blob/master/LeNet_5.ipynb\" target=\"_parent\"><img src=\"https://colab.research.google.com/assets/colab-badge.svg\" alt=\"Open In Colab\"/></a>"
      ]
    },
    {
      "cell_type": "code",
      "metadata": {
        "id": "Bzl7NT12oaoq"
      },
      "source": [
        "import cv2\n",
        "import numpy as np\n",
        "import os\n",
        "import sys\n",
        "import tensorflow as tf\n",
        "from sklearn.model_selection import train_test_split\n",
        "import h5py"
      ],
      "execution_count": null,
      "outputs": []
    },
    {
      "cell_type": "code",
      "metadata": {
        "id": "ZIZ3J--sssuO"
      },
      "source": [
        "TEST_SIZE = 0.4"
      ],
      "execution_count": null,
      "outputs": []
    },
    {
      "cell_type": "code",
      "metadata": {
        "id": "TXoAqYOL5i_Y"
      },
      "source": [
        "def load_array(directorio):\n",
        "    array = h5py.File(directorio, \"r\")\n",
        "    return array['init']"
      ],
      "execution_count": null,
      "outputs": []
    },
    {
      "cell_type": "code",
      "metadata": {
        "id": "Z9NNmz9J6Nst"
      },
      "source": [
        "def get_model():\n",
        "    model = tf.keras.Sequential([\n",
        "        \n",
        "       # Convolutional Layer, With 6 filter 5 by 5\n",
        "       tf.keras.layers.Conv2D(6, (5,5),  activation=\"tanh\", input_shape = (30,30,3)),\n",
        "       \n",
        "       # Max-pooling Layer using 2x2 filter\n",
        "       tf.keras.layers.MaxPooling2D(pool_size=(2,2), strides=(2,2)),\n",
        "       \n",
        "       # Convolutional Layer, With 10 filter 5 by 5\n",
        "       tf.keras.layers.Conv2D(10, (5,5), activation=\"tanh\", input_shape = (14,14,6)),\n",
        "       \n",
        "       # Max-pooling Layer using 2x2 filter\n",
        "       tf.keras.layers.MaxPooling2D(pool_size=(2,2), strides=(2,2)),\n",
        "       \n",
        "       #Flatten units\n",
        "       tf.keras.layers.Flatten(),\n",
        "       \n",
        "       #Add a hidden leyer 120 units\n",
        "       tf.keras.layers.Dense(120, activation=\"tanh\"),\n",
        "       tf.keras.layers.Dropout(0.5),\n",
        "       \n",
        "       #Add a hidden leyer 84 units\n",
        "       tf.keras.layers.Dense(84, activation=\"tanh\"),\n",
        "       \n",
        "       #Add an output layer for 43 outputs\n",
        "       tf.keras.layers.Dense(43, activation=\"softmax\")\n",
        "    ])\n",
        "    model.compile(optimizer = \"adam\", loss = \"binary_crossentropy\", metrics=\"accuracy\")\n",
        "    return model\n"
      ],
      "execution_count": null,
      "outputs": []
    },
    {
      "cell_type": "code",
      "metadata": {
        "id": "K6h_rVc96Vun"
      },
      "source": [
        "directorio = \"/content/drive/My Drive/datasets/imagenes.hdf5\"\n",
        "imagenes = load_array(directorio)\n",
        "\n",
        "directorio = \"/content/drive/My Drive/datasets/labels.hdf5\"\n",
        "labels = load_array(directorio)"
      ],
      "execution_count": null,
      "outputs": []
    },
    {
      "cell_type": "code",
      "metadata": {
        "id": "RJ7NR-6T6cqi"
      },
      "source": [
        "labels = tf.keras.utils.to_categorical(labels)\n",
        "x_train, x_test, y_train, y_test = train_test_split(np.array(imagenes), np.array(labels), test_size=TEST_SIZE)\n"
      ],
      "execution_count": null,
      "outputs": []
    },
    {
      "cell_type": "code",
      "metadata": {
        "id": "tE9VCaJW6xey",
        "outputId": "05a529ff-1cf4-4adf-832f-84a2b6198b07",
        "colab": {
          "base_uri": "https://localhost:8080/",
          "height": 459
        }
      },
      "source": [
        "model = get_model()\n",
        "model.summary()"
      ],
      "execution_count": null,
      "outputs": [
        {
          "output_type": "stream",
          "text": [
            "Model: \"sequential_1\"\n",
            "_________________________________________________________________\n",
            "Layer (type)                 Output Shape              Param #   \n",
            "=================================================================\n",
            "conv2d_2 (Conv2D)            (None, 26, 26, 6)         456       \n",
            "_________________________________________________________________\n",
            "max_pooling2d_2 (MaxPooling2 (None, 13, 13, 6)         0         \n",
            "_________________________________________________________________\n",
            "conv2d_3 (Conv2D)            (None, 9, 9, 10)          1510      \n",
            "_________________________________________________________________\n",
            "max_pooling2d_3 (MaxPooling2 (None, 4, 4, 10)          0         \n",
            "_________________________________________________________________\n",
            "flatten_1 (Flatten)          (None, 160)               0         \n",
            "_________________________________________________________________\n",
            "dense_3 (Dense)              (None, 120)               19320     \n",
            "_________________________________________________________________\n",
            "dropout_1 (Dropout)          (None, 120)               0         \n",
            "_________________________________________________________________\n",
            "dense_4 (Dense)              (None, 84)                10164     \n",
            "_________________________________________________________________\n",
            "dense_5 (Dense)              (None, 43)                3655      \n",
            "=================================================================\n",
            "Total params: 35,105\n",
            "Trainable params: 35,105\n",
            "Non-trainable params: 0\n",
            "_________________________________________________________________\n"
          ],
          "name": "stdout"
        }
      ]
    },
    {
      "cell_type": "code",
      "metadata": {
        "id": "CiFojwSe6y33",
        "outputId": "5aeedb8d-3354-4dc3-ca3a-605612072f07",
        "colab": {
          "base_uri": "https://localhost:8080/",
          "height": 374
        }
      },
      "source": [
        "model.fit(x_train, y_train, epochs=10)"
      ],
      "execution_count": null,
      "outputs": [
        {
          "output_type": "stream",
          "text": [
            "Epoch 1/10\n",
            "500/500 [==============================] - 1s 3ms/step - loss: 0.0651 - accuracy: 0.4362\n",
            "Epoch 2/10\n",
            "500/500 [==============================] - 1s 3ms/step - loss: 0.0255 - accuracy: 0.8081\n",
            "Epoch 3/10\n",
            "500/500 [==============================] - 1s 3ms/step - loss: 0.0149 - accuracy: 0.8925\n",
            "Epoch 4/10\n",
            "500/500 [==============================] - 1s 3ms/step - loss: 0.0108 - accuracy: 0.9259\n",
            "Epoch 5/10\n",
            "500/500 [==============================] - 1s 3ms/step - loss: 0.0085 - accuracy: 0.9429\n",
            "Epoch 6/10\n",
            "500/500 [==============================] - 1s 3ms/step - loss: 0.0072 - accuracy: 0.9503\n",
            "Epoch 7/10\n",
            "500/500 [==============================] - 1s 3ms/step - loss: 0.0060 - accuracy: 0.9597\n",
            "Epoch 8/10\n",
            "500/500 [==============================] - 1s 3ms/step - loss: 0.0052 - accuracy: 0.9648\n",
            "Epoch 9/10\n",
            "500/500 [==============================] - 1s 3ms/step - loss: 0.0049 - accuracy: 0.9670\n",
            "Epoch 10/10\n",
            "500/500 [==============================] - 1s 3ms/step - loss: 0.0044 - accuracy: 0.9703\n"
          ],
          "name": "stdout"
        },
        {
          "output_type": "execute_result",
          "data": {
            "text/plain": [
              "<tensorflow.python.keras.callbacks.History at 0x7f0067ab8b70>"
            ]
          },
          "metadata": {
            "tags": []
          },
          "execution_count": 23
        }
      ]
    },
    {
      "cell_type": "code",
      "metadata": {
        "id": "v56txzQH7pUC"
      },
      "source": [
        ""
      ],
      "execution_count": null,
      "outputs": []
    }
  ]
}